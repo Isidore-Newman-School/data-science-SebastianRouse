{
 "cells": [
  {
   "cell_type": "markdown",
   "metadata": {},
   "source": [
    "# Data_1.3 CSV"
   ]
  },
  {
   "cell_type": "markdown",
   "metadata": {},
   "source": [
    "Import pandas and create a new data set out of the cerial data"
   ]
  },
  {
   "cell_type": "code",
   "execution_count": 23,
   "metadata": {},
   "outputs": [],
   "source": [
    "import pandas as pd\n",
    "df = pd.read_csv('file.csv')\n",
    "df.set_index('name', inplace = True)\n",
    "df.to_csv('newcsv2.csv')"
   ]
  },
  {
   "cell_type": "markdown",
   "metadata": {},
   "source": [
    "read the data set"
   ]
  },
  {
   "cell_type": "code",
   "execution_count": 28,
   "metadata": {
    "scrolled": false
   },
   "outputs": [
    {
     "name": "stdout",
     "output_type": "stream",
     "text": [
      "                           calories  protein  fat  sodium  fiber  carbo  \\\n",
      "name                                                                      \n",
      "100% Bran                        70        4    1     130   10.0    5.0   \n",
      "100% Natural Bran               120        3    5      15    2.0    8.0   \n",
      "All-Bran                         70        4    1     260    9.0    7.0   \n",
      "All-Bran with Extra Fiber        50        4    0     140   14.0    8.0   \n",
      "Almond Delight                  110        2    2     200    1.0   14.0   \n",
      "\n",
      "                           sugars  potass  vitamins  shelf  weight  cups  \\\n",
      "name                                                                       \n",
      "100% Bran                       6     280        25      3     1.0  0.33   \n",
      "100% Natural Bran               8     135         0      3     1.0  1.00   \n",
      "All-Bran                        5     320        25      3     1.0  0.33   \n",
      "All-Bran with Extra Fiber       0     330        25      3     1.0  0.50   \n",
      "Almond Delight                  8      -1        25      3     1.0  0.75   \n",
      "\n",
      "                              rating  \n",
      "name                                  \n",
      "100% Bran                  68.402973  \n",
      "100% Natural Bran          33.983679  \n",
      "All-Bran                   59.425505  \n",
      "All-Bran with Extra Fiber  93.704912  \n",
      "Almond Delight             34.384843  \n"
     ]
    }
   ],
   "source": [
    "df = pd.read_csv('newcsv2.csv', index_col=0)\n",
    "print(df.head())"
   ]
  },
  {
   "cell_type": "markdown",
   "metadata": {},
   "source": [
    "renaming the carbo column"
   ]
  },
  {
   "cell_type": "code",
   "execution_count": 31,
   "metadata": {},
   "outputs": [
    {
     "name": "stdout",
     "output_type": "stream",
     "text": [
      "                           calories  protein  fat  sodium  fiber  Carbs  \\\n",
      "name                                                                      \n",
      "100% Bran                        70        4    1     130   10.0    5.0   \n",
      "100% Natural Bran               120        3    5      15    2.0    8.0   \n",
      "All-Bran                         70        4    1     260    9.0    7.0   \n",
      "All-Bran with Extra Fiber        50        4    0     140   14.0    8.0   \n",
      "Almond Delight                  110        2    2     200    1.0   14.0   \n",
      "\n",
      "                           sugars  potass  vitamins  shelf  weight  cups  \\\n",
      "name                                                                       \n",
      "100% Bran                       6     280        25      3     1.0  0.33   \n",
      "100% Natural Bran               8     135         0      3     1.0  1.00   \n",
      "All-Bran                        5     320        25      3     1.0  0.33   \n",
      "All-Bran with Extra Fiber       0     330        25      3     1.0  0.50   \n",
      "Almond Delight                  8      -1        25      3     1.0  0.75   \n",
      "\n",
      "                              rating  \n",
      "name                                  \n",
      "100% Bran                  68.402973  \n",
      "100% Natural Bran          33.983679  \n",
      "All-Bran                   59.425505  \n",
      "All-Bran with Extra Fiber  93.704912  \n",
      "Almond Delight             34.384843  \n"
     ]
    }
   ],
   "source": [
    "df.rename(columns={'carbo' : 'Carbs'}, inplace = True)\n",
    "print(df.head())"
   ]
  }
 ],
 "metadata": {
  "kernelspec": {
   "display_name": "Python 3",
   "language": "python",
   "name": "python3"
  },
  "language_info": {
   "codemirror_mode": {
    "name": "ipython",
    "version": 3
   },
   "file_extension": ".py",
   "mimetype": "text/x-python",
   "name": "python",
   "nbconvert_exporter": "python",
   "pygments_lexer": "ipython3",
   "version": "3.6.6"
  }
 },
 "nbformat": 4,
 "nbformat_minor": 2
}
