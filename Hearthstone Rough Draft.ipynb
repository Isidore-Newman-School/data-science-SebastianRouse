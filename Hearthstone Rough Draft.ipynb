{
 "cells": [
  {
   "cell_type": "markdown",
   "metadata": {},
   "source": [
    "# Popularity of Hearthstone Cards"
   ]
  },
  {
   "cell_type": "markdown",
   "metadata": {},
   "source": [
    "Sebastian Rouse\n",
    "\n",
    "December 7, 2018\n",
    "\n",
    "Advanced Topics in Computer Science and Making\n",
    "\n",
    "Isidore Newman School "
   ]
  },
  {
   "cell_type": "markdown",
   "metadata": {},
   "source": [
    "# Abstract"
   ]
  },
  {
   "cell_type": "markdown",
   "metadata": {},
   "source": [
    "The Data Set: This data set is a colection of over 346,000 decks used in the card game Hearthstone. . \n",
    "\n",
    "Results: Lord Godfrey, the most popular card in the dataset, has continued increase in poularity over its time of being in the game. \n",
    "\n",
    "Conclusion: Its hightime for a nerf"
   ]
  },
  {
   "cell_type": "markdown",
   "metadata": {},
   "source": [
    "# Introduction"
   ]
  },
  {
   "cell_type": "markdown",
   "metadata": {},
   "source": [
    "Research Question: What is the most popular card in Hearthstone and how has its popularity changed over time? \n",
    "\n",
    "Relevency: It is relevent because in hearthstone a large part of winning strategies is predicting what cards your opponent will be using, knowing the most used card and how relevent it is in the current metagame can allow for you to prepare a strategy that will not be hindered by the opponent using this card.\n",
    "\n",
    "Data Set Background: The data set is good for answering this question because it allows for one to check the most popular card and its popularity over time, showing if the card is still relevent in the metagame.\n",
    "\n",
    "Data set source: https://www.kaggle.com/romainvincent/history-of-hearthstone\n",
    "\n",
    "Data Set Contents: Every row of this data set is a deck and it contains every card in the deck in the for of an ID number, the date it was made, and the type of deck(ranked, casual, single player).\n",
    "\n",
    "Additional sources: http://hearthstoneapi.com/cards# used to show the name of the card when the card ID is given."
   ]
  },
  {
   "cell_type": "markdown",
   "metadata": {},
   "source": [
    "# Results"
   ]
  },
  {
   "cell_type": "code",
   "execution_count": 56,
   "metadata": {},
   "outputs": [],
   "source": [
    "import pandas as pd \n",
    "import numpy as np\n",
    "import matplotlib.pyplot as plt\n",
    "from scipy.stats import linregress\n",
    "hearthstone = pd.read_csv('data.csv')"
   ]
  },
  {
   "cell_type": "markdown",
   "metadata": {},
   "source": [
    "Organizing all the cards, and the dates they were put into a deck, into a two-column dataframe in order to make opperating and extracting conclusions from the cards and their dates easier."
   ]
  },
  {
   "cell_type": "code",
   "execution_count": 57,
   "metadata": {
    "scrolled": false
   },
   "outputs": [],
   "source": [
    "def allCards(df): \n",
    "    everyCard = []\n",
    "    everyDate = []\n",
    "    for i in range (11, 40):\n",
    "        for p in range (len(df['date'])):\n",
    "            if (p%2 == 0):\n",
    "                everyCard.append(df[df.columns[i]][p])\n",
    "                everyDate.append(df['date'][p])\n",
    "    cardsAndDates = pd.DataFrame({'everyCard': everyCard, 'everyDate': everyDate})\n",
    "    return(cardsAndDates)\n",
    "\n",
    "allCards = allCards(hearthstone)"
   ]
  },
  {
   "cell_type": "markdown",
   "metadata": {},
   "source": [
    "Converting the dates to datetime and adding a column that represents the month and year of the dates, allowing for the dataset to be grouped by month and year allowing for the dataset to be more easily processed."
   ]
  },
  {
   "cell_type": "code",
   "execution_count": 62,
   "metadata": {},
   "outputs": [],
   "source": [
    "allCards['everyDate'] = pd.to_datetime(allCards.everyDate)\n",
    "allCards['month_year'] = allCards['everyDate'].apply(lambda x: \"%d/%d\" % (x.month, x.year))"
   ]
  },
  {
   "cell_type": "markdown",
   "metadata": {},
   "source": [
    "Grouping the data set by the month and year as well as the cards that occur in that month and year. This is then used to evaluate the frequency with which each card occurs in each month and year. Groupby groups the data frame by the given criteria, for example in this code allCards is grouped by month_year and Card so the resultant dataframe will have all the cards that were used on the same month and year in the same section."
   ]
  },
  {
   "cell_type": "code",
   "execution_count": 63,
   "metadata": {},
   "outputs": [],
   "source": [
    "allCards = allCards.groupby(['month_year', 'everyCard']).size().to_frame(name = 'count').reset_index()"
   ]
  },
  {
   "cell_type": "markdown",
   "metadata": {},
   "source": [
    "Getting the frequency with which the most popular card in the data set occurs in every month and year. I just passed it 825 rather than setting a variable to the mode off all the cards and passing that to the functuion because if I did that it would return a data set that was empty. "
   ]
  },
  {
   "cell_type": "code",
   "execution_count": 88,
   "metadata": {},
   "outputs": [],
   "source": [
    "def getOccurance(cardID):\n",
    "    arrMonth = []\n",
    "    arrCount = []\n",
    "    for i in range(len(allCards['everyCard'])):\n",
    "        if allCards['everyCard'][i] == cardID:\n",
    "            arrMonth.append(allCards['month_year'][i])\n",
    "            arrCount.append(allCards['count'][i])\n",
    "    arrMonth = pd.to_datetime(arrMonth)\n",
    "    y = pd.DataFrame({'month_year': arrMonth, 'frequency': arrCount})\n",
    "    return(y)\n",
    "\n",
    "popularity = getOccurance(825)"
   ]
  },
  {
   "cell_type": "markdown",
   "metadata": {},
   "source": [
    "This data set's dates are are timestamps, however in order to plot the popularity of lord godfrey(card ID 825) on the scatterplot, the dates must be converted to integers."
   ]
  },
  {
   "cell_type": "code",
   "execution_count": 90,
   "metadata": {},
   "outputs": [],
   "source": [
    "scatter = popularity.copy()\n",
    "def numberDate(df):\n",
    "    x = 0\n",
    "    numberDate = []\n",
    "    for i in range(len(df['month_year'])):\n",
    "        x = ((df['month_year'][i].year*365) + (df['month_year'][i].month*30))\n",
    "        numberDate.append(float(x/365))\n",
    "    return(numberDate)\n",
    "\n",
    "scatter['numberDate'] = numberDate(scatter)"
   ]
  },
  {
   "cell_type": "markdown",
   "metadata": {},
   "source": [
    "Ploting the popularity of card 825 over time. "
   ]
  },
  {
   "cell_type": "code",
   "execution_count": 91,
   "metadata": {
    "scrolled": false
   },
   "outputs": [
    {
     "data": {
      "image/png": "[encoded data removed]",
      "text/plain": [
       "<Figure size 432x288 with 1 Axes>"
      ]
     },
     "metadata": {
      "needs_background": "light"
     },
     "output_type": "display_data"
    }
   ],
   "source": [
    "fit = np.polyfit(scatter.numberDate, scatter.frequency, 1)\n",
    "fit_fn = np.poly1d(fit)\n",
    "\n",
    "r_x, r_y = zip(*((i, i*fit[0] + fit[1]) for i in scatter.numberDate))\n",
    "\n",
    "fit_plot = pd.DataFrame({\n",
    "    'numberDate' : r_x,\n",
    "    'frequency' : r_y\n",
    "})\n",
    "\n",
    "fig, axes = plt.subplots()\n",
    " \n",
    "scatter.plot(x='numberDate', y='frequency', kind=\"scatter\", ax = axes, title='Lord Godfrey in the Metagame')\n",
    "fit_plot.plot(x='numberDate', y='frequency', kind='line', ax = axes, color = 'purple')\n",
    "\n",
    "ax = scatter.plot(x='numberDate', y='frequency', kind=\"scatter\", ax = axes, title='Lord Godfrey in the Metagame')\n",
    "\n",
    "ax.set_xlabel(\"Date\")\n",
    "ax.set_ylabel(\"Frequency of Card 825\")\n",
    "\n",
    "plt.show()\n",
    "\n",
    "%matplotlib inline"
   ]
  },
  {
   "cell_type": "markdown",
   "metadata": {},
   "source": [
    "Slope, r squared value, and p value:"
   ]
  },
  {
   "cell_type": "code",
   "execution_count": 92,
   "metadata": {},
   "outputs": [
    {
     "data": {
      "text/plain": [
       "0.5891322225340001"
      ]
     },
     "execution_count": 92,
     "metadata": {},
     "output_type": "execute_result"
    }
   ],
   "source": [
    "linregress(scatter['numberDate'], scatter['frequency']).rvalue**2"
   ]
  }
 ],
 "metadata": {
  "kernelspec": {
   "display_name": "Python 3",
   "language": "python",
   "name": "python3"
  },
  "language_info": {
   "codemirror_mode": {
    "name": "ipython",
    "version": 3
   },
   "file_extension": ".py",
   "mimetype": "text/x-python",
   "name": "python",
   "nbconvert_exporter": "python",
   "pygments_lexer": "ipython3",
   "version": "3.6.6"
  }
 },
 "nbformat": 4,
 "nbformat_minor": 2
}
