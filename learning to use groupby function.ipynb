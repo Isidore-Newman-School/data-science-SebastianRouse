{
 "cells": [
  {
   "cell_type": "code",
   "execution_count": 427,
   "metadata": {},
   "outputs": [],
   "source": [
    "import pandas as pd \n",
    "import numpy as np\n",
    "import matplotlib.pyplot as plt\n",
    "from scipy.stats import linregress"
   ]
  },
  {
   "cell_type": "code",
   "execution_count": 41,
   "metadata": {},
   "outputs": [],
   "source": [
    "hearthstone = pd.read_csv('data.csv')"
   ]
  },
  {
   "cell_type": "code",
   "execution_count": 65,
   "metadata": {},
   "outputs": [],
   "source": [
    "card0 = hearthstone[['date', 'card_0']].copy()\n",
    "card0['date'] = pd.to_datetime(card0.date)\n",
    "card0 = card0.rename(index=str, columns={\"card_0\": \"cards\"})"
   ]
  },
  {
   "cell_type": "code",
   "execution_count": 85,
   "metadata": {},
   "outputs": [],
   "source": [
    "card0['month_year'] = card0['date'].apply(lambda x: \"%d/%d\" % (x.month, x.year))"
   ]
  },
  {
   "cell_type": "code",
   "execution_count": 180,
   "metadata": {},
   "outputs": [],
   "source": [
    "df = card0.groupby(['month_year', 'cards']).size()"
   ]
  },
  {
   "cell_type": "code",
   "execution_count": 223,
   "metadata": {},
   "outputs": [],
   "source": [
    "df = card0.groupby(['month_year', 'cards']).size().to_frame(name = 'count').reset_index()\n",
    "# df = DataFrame({'count' : card0.groupby( ['month_year', 'cards'] ).size()}).reset_index()\n",
    "# print(df.head())\n",
    "\n",
    "# def getOccurance(cardID):\n",
    "#     arrMonth = []\n",
    "#     arrCount = []\n",
    "#     for i in range(len(df['cards'])):\n",
    "#         if df['cards'][i] == cardID:\n",
    "#             arrMonth.append(df['month_year'][i])\n",
    "#             arrCount.append(df['count'][i])\n",
    "#     arrMonth = pd.to_datetime(arrMonth)\n",
    "#     y = pd.DataFrame({'month_year': arrMonth, 'frequency': arrCount})\n",
    "#     return(y)\n",
    "\n",
    "c0Popularity = getOccurance(64)"
   ]
  },
  {
   "cell_type": "code",
   "execution_count": 221,
   "metadata": {},
   "outputs": [
    {
     "name": "stdout",
     "output_type": "stream",
     "text": [
      "   month_year  frequency\n",
      "0  2017-01-01         11\n",
      "1  2015-10-01          1\n",
      "2  2016-10-01          5\n",
      "3  2015-11-01          2\n",
      "4  2016-11-01         39\n",
      "5  2014-12-01          1\n",
      "6  2016-12-01         40\n",
      "7  2016-02-01          1\n",
      "8  2017-02-01          5\n",
      "9  2016-03-01          3\n",
      "10 2016-04-01         11\n",
      "11 2016-05-01          5\n",
      "12 2016-06-01          2\n",
      "13 2016-07-01          4\n",
      "14 2015-08-01          2\n",
      "15 2016-08-01          6\n",
      "16 2015-09-01          1\n",
      "17 2016-09-01         16\n"
     ]
    }
   ],
   "source": [
    "print(c0Popularity)"
   ]
  },
  {
   "cell_type": "code",
   "execution_count": 238,
   "metadata": {
    "scrolled": true
   },
   "outputs": [
    {
     "data": {
      "text/plain": [
       "<matplotlib.axes._subplots.AxesSubplot at 0x1c50ab34940>"
      ]
     },
     "execution_count": 238,
     "metadata": {},
     "output_type": "execute_result"
    },
    {
     "data": {
      "image/png": "[encoded data removed]",
      "text/plain": [
       "<Figure size 432x288 with 1 Axes>"
      ]
     },
     "metadata": {
      "needs_background": "light"
     },
     "output_type": "display_data"
    }
   ],
   "source": [
    "c0Popularity.plot(x='month_year', y='frequency', title='frequency over time')"
   ]
  },
  {
   "cell_type": "code",
   "execution_count": 208,
   "metadata": {},
   "outputs": [
    {
     "name": "stderr",
     "output_type": "stream",
     "text": [
      "\n",
      "KeyboardInterrupt\n",
      "\n"
     ]
    }
   ],
   "source": [
    "def mostPopular(df):\n",
    "    allCards = []\n",
    "    for i in range(11, 40):\n",
    "        for o in range(len(df['card_0'])):\n",
    "            allCards.append(df[df.columns[i]][o])\n",
    "    return allCards\n",
    "            \n",
    "\n",
    "cards = mostPopular(hearthstone)\n",
    "# hearthstone[hearthstone.columns[40]]"
   ]
  },
  {
   "cell_type": "code",
   "execution_count": 213,
   "metadata": {},
   "outputs": [],
   "source": [
    "allCards = pd.DataFrame({'allCards': cards})"
   ]
  },
  {
   "cell_type": "code",
   "execution_count": 214,
   "metadata": {
    "scrolled": false
   },
   "outputs": [
    {
     "data": {
      "text/html": [
       "<div>\n",
       "<style scoped>\n",
       "    .dataframe tbody tr th:only-of-type {\n",
       "        vertical-align: middle;\n",
       "    }\n",
       "\n",
       "    .dataframe tbody tr th {\n",
       "        vertical-align: top;\n",
       "    }\n",
       "\n",
       "    .dataframe thead th {\n",
       "        text-align: right;\n",
       "    }\n",
       "</style>\n",
       "<table border=\"1\" class=\"dataframe\">\n",
       "  <thead>\n",
       "    <tr style=\"text-align: right;\">\n",
       "      <th></th>\n",
       "      <th>allCards</th>\n",
       "    </tr>\n",
       "  </thead>\n",
       "  <tbody>\n",
       "    <tr>\n",
       "      <th>0</th>\n",
       "      <td>825</td>\n",
       "    </tr>\n",
       "  </tbody>\n",
       "</table>\n",
       "</div>"
      ],
      "text/plain": [
       "   allCards\n",
       "0       825"
      ]
     },
     "execution_count": 214,
     "metadata": {},
     "output_type": "execute_result"
    }
   ],
   "source": [
    "allCards.mode()"
   ]
  },
  {
   "cell_type": "code",
   "execution_count": 292,
   "metadata": {
    "scrolled": true
   },
   "outputs": [],
   "source": [
    "def twoColumn(df): \n",
    "    everyCard = []\n",
    "    everyDate = []\n",
    "    for i in range (11, 40):\n",
    "        for p in range (len(df['date'])):\n",
    "            if (p%2 == 0):\n",
    "                everyCard.append(df[df.columns[i]][p])\n",
    "                everyDate.append(df['date'][p])\n",
    "    cardsAndDates = pd.DataFrame({'everyCard': everyCard, 'everyDate': everyDate})\n",
    "    return(cardsAndDates)\n",
    "\n",
    "twoColumn = twoColumn(hearthstone)"
   ]
  },
  {
   "cell_type": "code",
   "execution_count": 293,
   "metadata": {},
   "outputs": [],
   "source": [
    "twoColumn['everyDate'] = pd.to_datetime(twoColumn.everyDate)\n",
    "twoColumn['month_year'] = twoColumn['everyDate'].apply(lambda x: \"%d/%d\" % (x.month, x.year))"
   ]
  },
  {
   "cell_type": "code",
   "execution_count": 294,
   "metadata": {},
   "outputs": [],
   "source": [
    "twoColumn = twoColumn.groupby(['month_year', 'everyCard']).size().to_frame(name = 'count').reset_index() "
   ]
  },
  {
   "cell_type": "code",
   "execution_count": 425,
   "metadata": {},
   "outputs": [],
   "source": [
    "def getOccurance(cardID):\n",
    "    arrMonth = []\n",
    "    arrCount = []\n",
    "    for i in range(len(twoColumn['everyCard'])):\n",
    "        if twoColumn['everyCard'][i] == cardID:\n",
    "            arrMonth.append(twoColumn['month_year'][i])\n",
    "            arrCount.append(twoColumn['count'][i])\n",
    "    arrMonth = pd.to_datetime(arrMonth)\n",
    "    y = pd.DataFrame({'month_year': arrMonth, 'frequency': arrCount})\n",
    "    return(y)\n",
    "\n",
    "popularity = getOccurance(825)"
   ]
  },
  {
   "cell_type": "code",
   "execution_count": 339,
   "metadata": {
    "scrolled": true
   },
   "outputs": [
    {
     "data": {
      "text/plain": [
       "<matplotlib.axes._subplots.AxesSubplot at 0x1c583cad908>"
      ]
     },
     "execution_count": 339,
     "metadata": {},
     "output_type": "execute_result"
    },
    {
     "data": {
      "image/png": "[encoded data removed]",
      "text/plain": [
       "<Figure size 432x288 with 1 Axes>"
      ]
     },
     "metadata": {
      "needs_background": "light"
     },
     "output_type": "display_data"
    }
   ],
   "source": [
    "popularity.plot(x='month_year', y='frequency', title='frequency over time')"
   ]
  },
  {
   "cell_type": "code",
   "execution_count": 359,
   "metadata": {},
   "outputs": [
    {
     "data": {
      "text/plain": [
       "month_year    datetime64[ns]\n",
       "frequency              int64\n",
       "dtype: object"
      ]
     },
     "execution_count": 359,
     "metadata": {},
     "output_type": "execute_result"
    }
   ],
   "source": [
    "scatter = popularity.copy()\n",
    "scatter.dtypes"
   ]
  },
  {
   "cell_type": "code",
   "execution_count": 407,
   "metadata": {},
   "outputs": [],
   "source": [
    "def numberDate(df):\n",
    "    x = 0\n",
    "    numberDate = []\n",
    "    for i in range(len(df['month_year'])):\n",
    "        x = ((df['month_year'][i].year*365) + (df['month_year'][i].month*30))\n",
    "        numberDate.append(float(x/365))\n",
    "    return(numberDate)\n",
    "\n",
    "dayFromZero = numberDate(scatter)"
   ]
  },
  {
   "cell_type": "code",
   "execution_count": 410,
   "metadata": {
    "scrolled": true
   },
   "outputs": [],
   "source": [
    "c0popNumber = numberDate(c0Popularity)\n",
    "c0Popularity['dateInt'] = c0popNumber"
   ]
  },
  {
   "cell_type": "code",
   "execution_count": 390,
   "metadata": {},
   "outputs": [],
   "source": [
    "scatter[\"dayFromZero\"] = dayFromZero"
   ]
  },
  {
   "cell_type": "code",
   "execution_count": null,
   "metadata": {
    "scrolled": true
   },
   "outputs": [],
   "source": [
    "fit1 = np.polyfit(scatter.dayFromZero, scatter.frequency, 1)\n",
    "fit_fn1 = np.poly1d(fit)\n",
    "\n",
    "# fit2 = np.polyfit(c0Popularity.dateInt, c0Popularity.frequency, 1)\n",
    "# fit_fn2 = np.poly1d(fit)\n",
    "\n",
    "r_x1, r_y1 = zip(*((i, i*fit[0] + fit[1]) for i in scatter.dayFromZero))\n",
    "\n",
    "# r_x2, r_y2 = zip(*((i, i*fit[0] + fit[1]) for i in c0Popularity.dateInt))\n",
    "\n",
    "fit_plot1 = pd.DataFrame({\n",
    "    'dayFromZero' : r_x1,\n",
    "    'frequency' : r_y1\n",
    "})\n",
    "# fit_plot2 = pd.DataFrame({\n",
    "#     'dateInt' : r_x2,\n",
    "#     'frequency' : r_y2\n",
    "# })\n",
    "\n",
    "fig, axes = plt.subplots()\n",
    " \n",
    "scatter.plot(x='dayFromZero', y='frequency', kind=\"scatter\", ax = axes, title='Frequency Over Time')\n",
    "fit_plot1.plot(x='dayFromZero', y='frequency', kind='line', ax = axes, color = 'purple')\n",
    "\n",
    "# c0Popularity.plot(x='dateInt', y='frequency', kind=\"scatter\", ax = axes, color = 'red')\n",
    "# fit_plot2.plot(x='dateInt', y='frequency', kind='line', ax = axes, color = 'red')\n",
    "\n",
    "\n",
    "plt.show()\n",
    "\n",
    "%matplotlib inline"
   ]
  },
  {
   "cell_type": "code",
   "execution_count": 405,
   "metadata": {
    "scrolled": false
   },
   "outputs": [],
   "source": [
    "def ranked(df):\n",
    "    ranked = pd.DataFrame()\n",
    "    for i in range(len(df['deck_type'])):\n",
    "        if (df['deck_type'][i] == 'Ranked Deck'):\n",
    "            ranked.append(df.iloc[i])\n",
    "    return ranked"
   ]
  },
  {
   "cell_type": "code",
   "execution_count": 431,
   "metadata": {},
   "outputs": [
    {
     "ename": "TypeError",
     "evalue": "cannot concatenate object of type \"<class 'int'>\"; only pd.Series, pd.DataFrame, and pd.Panel (deprecated) objs are valid",
     "output_type": "error",
     "traceback": [
      "\u001b[1;31m---------------------------------------------------------------------------\u001b[0m",
      "\u001b[1;31mTypeError\u001b[0m                                 Traceback (most recent call last)",
      "\u001b[1;32m<ipython-input-431-bec77251a3f4>\u001b[0m in \u001b[0;36m<module>\u001b[1;34m()\u001b[0m\n\u001b[0;32m      1\u001b[0m \u001b[1;31m# ranked = ranked(hearthstone)\u001b[0m\u001b[1;33m\u001b[0m\u001b[1;33m\u001b[0m\u001b[0m\n\u001b[0;32m      2\u001b[0m \u001b[0mempda\u001b[0m \u001b[1;33m=\u001b[0m \u001b[0mpd\u001b[0m\u001b[1;33m.\u001b[0m\u001b[0mDataFrame\u001b[0m\u001b[1;33m(\u001b[0m\u001b[1;33m)\u001b[0m\u001b[1;33m\u001b[0m\u001b[0m\n\u001b[1;32m----> 3\u001b[1;33m \u001b[0mempda\u001b[0m\u001b[1;33m.\u001b[0m\u001b[0mappend\u001b[0m\u001b[1;33m(\u001b[0m\u001b[1;36m3\u001b[0m\u001b[1;33m)\u001b[0m\u001b[1;33m\u001b[0m\u001b[0m\n\u001b[0m",
      "\u001b[1;32m~\\AppData\\Local\\Continuum\\anaconda3\\lib\\site-packages\\pandas\\core\\frame.py\u001b[0m in \u001b[0;36mappend\u001b[1;34m(self, other, ignore_index, verify_integrity, sort)\u001b[0m\n\u001b[0;32m   6209\u001b[0m         return concat(to_concat, ignore_index=ignore_index,\n\u001b[0;32m   6210\u001b[0m                       \u001b[0mverify_integrity\u001b[0m\u001b[1;33m=\u001b[0m\u001b[0mverify_integrity\u001b[0m\u001b[1;33m,\u001b[0m\u001b[1;33m\u001b[0m\u001b[0m\n\u001b[1;32m-> 6211\u001b[1;33m                       sort=sort)\n\u001b[0m\u001b[0;32m   6212\u001b[0m \u001b[1;33m\u001b[0m\u001b[0m\n\u001b[0;32m   6213\u001b[0m     def join(self, other, on=None, how='left', lsuffix='', rsuffix='',\n",
      "\u001b[1;32m~\\AppData\\Local\\Continuum\\anaconda3\\lib\\site-packages\\pandas\\core\\reshape\\concat.py\u001b[0m in \u001b[0;36mconcat\u001b[1;34m(objs, axis, join, join_axes, ignore_index, keys, levels, names, verify_integrity, sort, copy)\u001b[0m\n\u001b[0;32m    223\u001b[0m                        \u001b[0mkeys\u001b[0m\u001b[1;33m=\u001b[0m\u001b[0mkeys\u001b[0m\u001b[1;33m,\u001b[0m \u001b[0mlevels\u001b[0m\u001b[1;33m=\u001b[0m\u001b[0mlevels\u001b[0m\u001b[1;33m,\u001b[0m \u001b[0mnames\u001b[0m\u001b[1;33m=\u001b[0m\u001b[0mnames\u001b[0m\u001b[1;33m,\u001b[0m\u001b[1;33m\u001b[0m\u001b[0m\n\u001b[0;32m    224\u001b[0m                        \u001b[0mverify_integrity\u001b[0m\u001b[1;33m=\u001b[0m\u001b[0mverify_integrity\u001b[0m\u001b[1;33m,\u001b[0m\u001b[1;33m\u001b[0m\u001b[0m\n\u001b[1;32m--> 225\u001b[1;33m                        copy=copy, sort=sort)\n\u001b[0m\u001b[0;32m    226\u001b[0m     \u001b[1;32mreturn\u001b[0m \u001b[0mop\u001b[0m\u001b[1;33m.\u001b[0m\u001b[0mget_result\u001b[0m\u001b[1;33m(\u001b[0m\u001b[1;33m)\u001b[0m\u001b[1;33m\u001b[0m\u001b[0m\n\u001b[0;32m    227\u001b[0m \u001b[1;33m\u001b[0m\u001b[0m\n",
      "\u001b[1;32m~\\AppData\\Local\\Continuum\\anaconda3\\lib\\site-packages\\pandas\\core\\reshape\\concat.py\u001b[0m in \u001b[0;36m__init__\u001b[1;34m(self, objs, axis, join, join_axes, keys, levels, names, ignore_index, verify_integrity, copy, sort)\u001b[0m\n\u001b[0;32m    284\u001b[0m                        \u001b[1;34m' only pd.Series, pd.DataFrame, and pd.Panel'\u001b[0m\u001b[1;33m\u001b[0m\u001b[0m\n\u001b[0;32m    285\u001b[0m                        ' (deprecated) objs are valid'.format(type(obj)))\n\u001b[1;32m--> 286\u001b[1;33m                 \u001b[1;32mraise\u001b[0m \u001b[0mTypeError\u001b[0m\u001b[1;33m(\u001b[0m\u001b[0mmsg\u001b[0m\u001b[1;33m)\u001b[0m\u001b[1;33m\u001b[0m\u001b[0m\n\u001b[0m\u001b[0;32m    287\u001b[0m \u001b[1;33m\u001b[0m\u001b[0m\n\u001b[0;32m    288\u001b[0m             \u001b[1;31m# consolidate\u001b[0m\u001b[1;33m\u001b[0m\u001b[1;33m\u001b[0m\u001b[0m\n",
      "\u001b[1;31mTypeError\u001b[0m: cannot concatenate object of type \"<class 'int'>\"; only pd.Series, pd.DataFrame, and pd.Panel (deprecated) objs are valid"
     ]
    }
   ],
   "source": [
    "# ranked = ranked(hearthstone)\n"
   ]
  },
  {
   "cell_type": "code",
   "execution_count": 423,
   "metadata": {},
   "outputs": [
    {
     "data": {
      "text/plain": [
       "LinregressResult(slope=993.5012062443856, intercept=-2000459.4101360901, rvalue=0.7675494919117595, pvalue=3.0894477414159357e-10, stderr=123.6820841047662)"
      ]
     },
     "execution_count": 423,
     "metadata": {},
     "output_type": "execute_result"
    }
   ],
   "source": [
    "linregress(scatter['dayFromZero'], scatter['frequency'])"
   ]
  },
  {
   "cell_type": "code",
   "execution_count": null,
   "metadata": {},
   "outputs": [],
   "source": []
  }
 ],
 "metadata": {
  "kernelspec": {
   "display_name": "Python 3",
   "language": "python",
   "name": "python3"
  },
  "language_info": {
   "codemirror_mode": {
    "name": "ipython",
    "version": 3
   },
   "file_extension": ".py",
   "mimetype": "text/x-python",
   "name": "python",
   "nbconvert_exporter": "python",
   "pygments_lexer": "ipython3",
   "version": "3.6.6"
  }
 },
 "nbformat": 4,
 "nbformat_minor": 2
}
